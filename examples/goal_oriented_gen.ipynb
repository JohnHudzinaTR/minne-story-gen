{
 "cells": [
  {
   "cell_type": "markdown",
   "metadata": {},
   "source": [
    "# Goal Oriented Generation \n",
    "\n",
    "Based on prompts from [Creating Suspenseful Stories with Large Language Models](https://arxiv.org/abs/2402.17119)."
   ]
  },
  {
   "cell_type": "code",
   "execution_count": 55,
   "metadata": {},
   "outputs": [],
   "source": [
    "from dotenv import load_dotenv\n",
    "from langchain_aws import ChatBedrock\n",
    "from langchain_core.output_parsers import StrOutputParser\n",
    "from langchain_core.prompts import ChatPromptTemplate\n",
    "\n",
    "load_dotenv()\n",
    "\n",
    "# See langchain_aws for more information on other bedrock models\n",
    "# This is the model we will be using for this example\n",
    "\n",
    "model = ChatBedrock(\n",
    "    model_id=\"anthropic.claude-3-haiku-20240307-v1:0\",\n",
    "    model_kwargs={\"temperature\": 0.7},\n",
    ")\n",
    "\n",
    "# Setting a role for the chat model to act as a short story writer\n",
    "\n",
    "role = \"\"\"You are a short story writer with a passion for creative writing and storytelling. \n",
    "Your task is to create engaging stories that captivate your audience and leave them wanting more. \n",
    "\"\"\"\n",
    "\n",
    "def prompt_from_template(template: str):\n",
    "    return ChatPromptTemplate.from_messages([\n",
    "        (\"system\", role),\n",
    "        (\"human\", template)\n",
    "    ])\n"
   ]
  },
  {
   "cell_type": "markdown",
   "metadata": {},
   "source": [
    "# Background Setup\n",
    "\n",
    "This is the world knowledge needed to tell a coherent story about the protagonist.  We'll need the following items:\n",
    "\n",
    "- Protagonist's name and occupution\n",
    "- The goal they want to achieve\n",
    "- The consequence for not achieving the goal\n",
    "\n",
    "From those items, we'll prompt the model to write an introductory paragraph\n"
   ]
  },
  {
   "cell_type": "code",
   "execution_count": 56,
   "metadata": {},
   "outputs": [],
   "source": [
    "genre = \"Espionage Thriller\"\n",
    "name_pormpt = prompt_from_template(template=\"The name and the occupation of a protagonist of a {genre}:\")\n",
    "\n",
    "name_chain = name_pormpt | model | StrOutputParser()\n",
    "name_occupation = name_chain.invoke({\"genre\":genre})\n",
    "\n",
    "jinja_vars = {\n",
    "    \"genre\": genre,\n",
    "    \"name_occupation\": name_occupation\n",
    "}"
   ]
  },
  {
   "cell_type": "code",
   "execution_count": 57,
   "metadata": {},
   "outputs": [],
   "source": [
    "goal_instructions = \"\"\"\n",
    "<protagonist_background>\n",
    "<name_occupation>{name_occupation}</name_occupation>\n",
    "</protagonist_background>\n",
    "\n",
    "A very concrete goal the protagonist wants to achieve:\"\"\"\n",
    "\n",
    "goal_prompt = prompt_from_template(template=goal_instructions)\n",
    "\n",
    "gaol_chain = goal_prompt | model | StrOutputParser()\n",
    "goal = gaol_chain.invoke({\"name_occupation\":name_occupation})\n",
    "\n",
    "jinja_vars[\"goal\"] = goal"
   ]
  },
  {
   "cell_type": "code",
   "execution_count": 58,
   "metadata": {},
   "outputs": [],
   "source": [
    "\n",
    "situtaion = \"\"\"<protagonist_background>\n",
    "<name_occupation>{name_occupation}</name_occupation> \n",
    "<goal>{goal}</goal>\n",
    "</protagonist_background>\n",
    "\n",
    "Tell me about a dire situation that the protagonist would be put in, if the protagonist couldn’t achieve the goal:\n",
    "\"\"\"\n",
    "\n",
    "situtaion_prompt = prompt_from_template(template=situtaion)\n",
    "\n",
    "situation_chain = situtaion_prompt | model | StrOutputParser()\n",
    "dire_situation = situation_chain.invoke({\"name_occupation\":name_occupation, \"goal\":goal})\n",
    "\n",
    "jinja_vars[\"dire_situation\"] = dire_situation"
   ]
  },
  {
   "cell_type": "code",
   "execution_count": 59,
   "metadata": {},
   "outputs": [
    {
     "name": "stdout",
     "output_type": "stream",
     "text": [
      "Here is an introductory paragraph for the espionage thriller story featuring the protagonist Evelyn Harrington:\n",
      "\n",
      "Evelyn Harrington's footsteps echoed through the dimly lit corridor as she made her way towards the secure briefing room. As a highly trained covert intelligence operative, she was no stranger to the shadows of international espionage, but the weight of her current mission pressed heavily on her mind. Intelligence had uncovered a dangerous conspiracy, one that threatened to unravel the delicate balance of global power and plunge the world into chaos. Evelyn knew she was the only one who could infiltrate the criminal organization at the heart of this plot, gathering the crucial evidence needed to expose their nefarious schemes. Failure was not an option - the consequences were unthinkable. With a steely determination in her eyes, Evelyn pushed open the door, ready to confront the gravity of the task that lay ahead.\n"
     ]
    }
   ],
   "source": [
    "intro_instruction =  \"\"\"<protagonist_background>\n",
    "<name_occupation>{name_occupation}</name_occupation> \n",
    "<goal>{goal}</goal>\n",
    "<situation>{dire_situation}</situation>\n",
    "</protagonist_background>\n",
    "\n",
    "Write an introductory paragraph of a story that covers all the above information:\n",
    "\"\"\"\n",
    "\n",
    "intro_prompt = prompt_from_template(template=intro_instruction)\n",
    "intro_chain = intro_prompt | model | StrOutputParser()\n",
    "intro = intro_chain.invoke({\"name_occupation\":name_occupation, \"goal\":goal, \"dire_situation\":dire_situation})\n",
    "\n",
    "jinja_vars[\"intro\"] = intro"
   ]
  },
  {
   "cell_type": "markdown",
   "metadata": {},
   "source": [
    "# Outline  Planning\n"
   ]
  },
  {
   "cell_type": "code",
   "execution_count": 60,
   "metadata": {},
   "outputs": [
    {
     "name": "stdout",
     "output_type": "stream",
     "text": [
      "<action>\n",
      "Determined to uncover and dismantle the dangerous international conspiracy, Evelyn Harrington immediately springs into action, drawing upon her extensive training and experience as a covert intelligence operative. First and foremost, she meticulously analyzes the limited intelligence she has gathered so far, searching for any potential leads or weaknesses in the criminal organization's operations.\n",
      "\n",
      "With a keen eye for detail and an analytical mind honed by years of field work, Evelyn begins to piece together the intricate web of connections and resources that the syndicate has amassed. She identifies key figures within the organization, mapping out their roles, relationships, and potential vulnerabilities. Armed with this information, Evelyn devises a comprehensive strategy, one that will allow her to infiltrate the criminal network and gather the evidence needed to expose their nefarious plans.\n",
      "\n",
      "Evelyn knows that time is of the essence, as the conspiracy continues to unfold, with the potential to wreak havoc on a global scale. As such, she quickly mobilizes her network of trusted contacts and informants, leveraging their specialized skills and intimate knowledge of the underworld to gain access to the syndicate's inner circle. With meticulous planning and unwavering determination, Evelyn sets out to execute her daring mission, fully aware that the fate of her country and the world hangs in the balance.\n",
      "</action>\n"
     ]
    }
   ],
   "source": [
    "action_1_instructions =  \"\"\"<protagonist_background>\n",
    "<name_occupation>{name_occupation}</name_occupation> \n",
    "<goal>{goal}</goal>\n",
    "<situation>{dire_situation}</situation>\n",
    "</protagonist_background>\n",
    "\n",
    "In a narrative style, write a paragraph about concrete action the protagonist is most likely to take, \n",
    "in order to achieve the goal:\\n\n",
    "\"\"\"\n",
    "\n",
    "action_1_prompt = prompt_from_template(template=action_1_instructions)\n",
    "action_1_chain = action_1_prompt | model | StrOutputParser()\n",
    "action_1 = action_1_chain.invoke({\"name_occupation\":name_occupation, \"goal\":goal, \"dire_situation\":dire_situation})\n",
    "\n",
    "jinja_vars[\"action_1\"] = action_1"
   ]
  },
  {
   "cell_type": "code",
   "execution_count": 61,
   "metadata": {},
   "outputs": [
    {
     "name": "stdout",
     "output_type": "stream",
     "text": [
      "Evelyn's heart raced as she executed her meticulously planned infiltration of the criminal syndicate. She had gathered the intelligence, mapped out the connections, and assembled her team of trusted operatives. Yet, as she made her way deeper into the organization's stronghold, a nagging sense of unease crept up her spine.\n",
      "\n",
      "It was the little things that began to unravel her carefully constructed strategy. A guard posted in an unexpected location, a security protocol that had been updated since her last intel briefing, a subtle shift in the syndicate's operations that threw her timing off. Evelyn found herself constantly adapting, improvising, and reacting to the unpredictable nature of her adversaries.\n",
      "\n",
      "Despite her extensive training and experience, Evelyn realized that she had underestimated the syndicate's adaptability and resilience. They were not a static target, but a constantly evolving entity, able to anticipate and counter her moves with unsettling precision. As she pushed forward, the walls seemed to close in, and the path to success grew increasingly narrow and treacherous.\n",
      "\n",
      "Evelyn's determination never wavered, but she knew that her window of opportunity was rapidly closing. The syndicate was one step ahead, and she found herself struggling to maintain control of the operation. In the end, her failure to fully account for the dynamic and elusive nature of her foes would prove to be her undoing, leaving her to confront the harsh reality that even the best-laid plans can unravel in the face of a formidable and unpredictable adversary.\n"
     ]
    }
   ],
   "source": [
    "action_1_reason_inst = \"\"\"The protagonist tries to perform the following action: {action_1}. \n",
    "But the protagonist still fails to achieve the goal for a reason. \n",
    "Write a paragraph about the reason for the failure in a narrative style:\\n\"\"\"\n",
    "\n",
    "action_1_reason_prompt = prompt_from_template(template=action_1_reason_inst)\n",
    "action_1_reason_chain = action_1_reason_prompt | model | StrOutputParser()\n",
    "action_1_reason = action_1_reason_chain.invoke({\"action_1\":action_1})\n",
    "\n",
    "jinja_vars[\"action_1_reason\"] = action_1_reason"
   ]
  },
  {
   "cell_type": "code",
   "execution_count": 62,
   "metadata": {},
   "outputs": [
    {
     "name": "stdout",
     "output_type": "stream",
     "text": [
      "# Backgroud Infommation\n",
      "\n",
      "## Genre \n",
      "\n",
      "Espionage Thriller\n",
      "\n",
      "## Name & Occupation\n",
      "\n",
      "Here's a protagonist for an espionage thriller:\n",
      "\n",
      "Name: Evelyn Harrington\n",
      "Occupation: Covert Intelligence Operative\n",
      "\n",
      "Evelyn Harrington is a highly trained and experienced covert intelligence operative working for a secretive government agency. She is an expert in counter-espionage, surveillance, and information gathering, with a sharp mind and an unwavering sense of duty. \n",
      "\n",
      "Evelyn's job often takes her into the shadows, as she navigates the dangerous world of international espionage, uncovering plots and thwarting the efforts of foreign adversaries. She is adept at blending into her surroundings, adopting various personas, and using her keen observational skills to stay one step ahead of her targets.\n",
      "\n",
      "Despite the high-stakes nature of her work, Evelyn maintains a cool, collected demeanor, driven by an unwavering moral compass and a determination to protect her country's interests. However, her personal life is often shrouded in secrecy, as she struggles to balance the demands of her covert career with the desire for a normal life.\n",
      "\n",
      "As the protagonist of an espionage thriller, Evelyn Harrington's story would likely involve her being drawn into a complex web of intrigue, where she must use all of her skills and resources to uncover a dangerous conspiracy that threatens national security. Her journey would be filled with suspense, action, and the constant need to stay one step ahead of her adversaries, all while grappling with the personal toll of her chosen profession.\n",
      "\n",
      "## Goal\n",
      "\n",
      "Here is a concrete goal that the protagonist, Evelyn Harrington, wants to achieve in the espionage thriller:\n",
      "\n",
      "<protagonist_goal>\n",
      "Evelyn's primary goal is to uncover and dismantle a dangerous international conspiracy that threatens the national security of her country. As a covert intelligence operative, she has received intelligence that a powerful and well-connected criminal organization has obtained sensitive government information and is using it to manipulate global events for their own nefarious purposes.\n",
      "\n",
      "Evelyn knows that if this conspiracy is allowed to continue, it could have catastrophic consequences, potentially leading to political upheaval, economic instability, and even military conflict. Driven by a deep sense of duty and a desire to protect her country, Evelyn is determined to infiltrate the criminal organization, gather crucial evidence, and expose the full extent of their plans to the relevant authorities.\n",
      "\n",
      "However, this will not be an easy task. The criminal syndicate is highly sophisticated, with powerful connections and resources at their disposal. Evelyn will need to use all of her skills in counter-espionage, surveillance, and information gathering to stay one step ahead of her adversaries, all while navigating a complex web of political intrigue and personal betrayals.\n",
      "\n",
      "Success in this mission will not only disrupt the criminal organization's plans but also restore Evelyn's faith in the effectiveness of her work and the importance of her role as a covert intelligence operative. Failure, on the other hand, could have devastating consequences for her country and the people she has sworn to protect.\n",
      "</protagonist_goal>\n",
      "\n",
      "## Consequeces for not achieving the goal\n",
      "\n",
      "If Evelyn Harrington, the covert intelligence operative, fails to uncover and dismantle the dangerous international conspiracy she has been tasked with, the consequences could be truly dire:\n",
      "\n",
      "<dire_situation>\n",
      "The criminal organization at the heart of the conspiracy has obtained highly sensitive government information, including details about national security protocols, military deployments, and intelligence assets. If they are allowed to continue manipulating this information for their own gain, it could lead to a catastrophic breakdown in global stability.\n",
      "\n",
      "Evelyn knows that the criminal syndicate plans to use this information to orchestrate a series of coordinated attacks and destabilizing events around the world. This could include inciting civil unrest in key regions, triggering economic crises through the strategic manipulation of financial markets, or even provoking military conflicts between rival nations.\n",
      "\n",
      "If Evelyn is unable to stop this conspiracy in time, the results could be devastating. Millions of lives could be at risk as the world teeters on the brink of chaos. Critical infrastructure could be crippled, economies could collapse, and the delicate balance of global power could be shattered, potentially leading to all-out war.\n",
      "\n",
      "Moreover, Evelyn's failure would not only have dire geopolitical consequences but also deeply personal ones. As a covert operative, her entire career and sense of purpose is tied to protecting her country and its citizens. If she is unable to stop this conspiracy, it would represent a profound personal failure, one that could haunt her for the rest of her life and undermine her faith in the effectiveness of her work.\n",
      "\n",
      "The stakes could not be higher, and Evelyn knows that she must succeed in her mission, no matter the personal cost. Failure is simply not an option, as the consequences could be catastrophic for her country, the global community, and Evelyn's own sense of identity and purpose.\n",
      "</dire_situation>\n",
      "\n"
     ]
    }
   ],
   "source": [
    "from jinja2 import Environment, select_autoescape, FileSystemLoader\n",
    "env = Environment(\n",
    "    loader=FileSystemLoader(\".\"),\n",
    "    autoescape=select_autoescape()\n",
    ")\n",
    "\n",
    "template = env.get_template(\"goal_template.jinja\")\n",
    "\n",
    "story = template.render(**jinja_vars)\n",
    "\n",
    "with open(\"story.md\", \"w\") as f:\n",
    "    f.write(story)"
   ]
  }
 ],
 "metadata": {
  "kernelspec": {
   "display_name": ".venv",
   "language": "python",
   "name": "python3"
  },
  "language_info": {
   "codemirror_mode": {
    "name": "ipython",
    "version": 3
   },
   "file_extension": ".py",
   "mimetype": "text/x-python",
   "name": "python",
   "nbconvert_exporter": "python",
   "pygments_lexer": "ipython3",
   "version": "3.10.10"
  }
 },
 "nbformat": 4,
 "nbformat_minor": 2
}

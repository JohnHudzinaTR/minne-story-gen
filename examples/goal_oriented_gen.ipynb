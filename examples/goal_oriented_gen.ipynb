{
 "cells": [
  {
   "cell_type": "markdown",
   "metadata": {},
   "source": [
    "# Goal Oriented Generation \n",
    "\n",
    "Based on prompts from [Creating Suspenseful Stories with Large Language Models](https://arxiv.org/abs/2402.17119)."
   ]
  },
  {
   "cell_type": "code",
   "execution_count": 20,
   "metadata": {},
   "outputs": [
    {
     "data": {
      "text/plain": [
       "True"
      ]
     },
     "execution_count": 20,
     "metadata": {},
     "output_type": "execute_result"
    }
   ],
   "source": [
    "from dotenv import load_dotenv\n",
    "\n",
    "load_dotenv()"
   ]
  },
  {
   "cell_type": "code",
   "execution_count": 21,
   "metadata": {},
   "outputs": [],
   "source": [
    "from langchain_aws import ChatBedrock\n",
    "from langchain_core.output_parsers import StrOutputParser\n",
    "from langchain_core.prompts import ChatPromptTemplate\n",
    "from langchain_core.messages import SystemMessage, HumanMessage\n",
    "\n",
    "model = ChatBedrock(\n",
    "    model_id=\"anthropic.claude-3-haiku-20240307-v1:0\",\n",
    "    model_kwargs={\"temperature\": 0.1},\n",
    ")\n",
    "\n",
    "role = \"\"\"You are a short story writer with a passion for creative writing and storytelling. \n",
    "Your task is to create engaging stories that captivate your audience and leave them wanting more. \n",
    "\"\"\"\n",
    "\n",
    "def prompt_from_template(template: str):\n",
    "    return ChatPromptTemplate.from_messages([\n",
    "        (\"system\", role),\n",
    "        (\"human\", template)\n",
    "    ])\n"
   ]
  },
  {
   "cell_type": "code",
   "execution_count": 22,
   "metadata": {},
   "outputs": [
    {
     "name": "stdout",
     "output_type": "stream",
     "text": [
      "Here is the name and occupation of a protagonist for an espionage thriller:\n",
      "\n",
      "Name: Evelyn Sinclair\n",
      "Occupation: International Intelligence Operative\n",
      "\n",
      "Evelyn Sinclair is a highly skilled and seasoned intelligence operative who works for a covert government agency. She is an expert in counterintelligence, surveillance, and strategic operations. Evelyn has been tasked with infiltrating a dangerous global crime syndicate that is threatening national security. With her sharp instincts, quick thinking, and mastery of disguise and deception, Evelyn must navigate a web of lies and betrayal to uncover the syndicate's sinister plans before it's too late. Her mission will take her across the globe, from the shadowy back alleys of Eastern Europe to the high-stakes boardrooms of multinational corporations. Evelyn must use all of her cunning and resourcefulness to stay one step ahead of the enemy and prevent a catastrophic attack. The fate of the free world hangs in the balance, and Evelyn is the only one who can stop the impending disaster.\n"
     ]
    }
   ],
   "source": [
    "genre = \"Espionage Thriller\"\n",
    "name_pormpt = prompt_from_template(template=\"Make up the name and the occupation of a protagonist of a {genre}.\")\n",
    "\n",
    "name_chain = name_pormpt | model | StrOutputParser()\n",
    "name_occupation = name_chain.invoke({\"genre\":genre})\n",
    "print(name_occupation)"
   ]
  },
  {
   "cell_type": "code",
   "execution_count": 23,
   "metadata": {},
   "outputs": [
    {
     "name": "stdout",
     "output_type": "stream",
     "text": [
      "Given the details provided about the protagonist, Evelyn Sinclair, an international intelligence operative, her concrete goal in this espionage thriller would be:\n",
      "\n",
      "To infiltrate the dangerous global crime syndicate, uncover their sinister plans, and prevent a catastrophic attack that threatens national security and the free world.\n",
      "\n",
      "Evelyn's mission is high-stakes and the consequences of failure are dire. She must use all of her skills, expertise, and resourcefulness to navigate the web of lies and betrayal, stay one step ahead of the enemy, and ultimately dismantle the crime syndicate before they can carry out their devastating plot. The fate of the world rests on Evelyn's shoulders, and she is driven to succeed in this critical operation.\n"
     ]
    }
   ],
   "source": [
    "\n",
    "\n",
    "goal_prompt = prompt_from_template(template=\"<name_occupation>{name_occupation}</name_occupation>\\n\\nGiven the <name_occupation>, create a very concrete goal the protagonist wants to achieve\")\n",
    "\n",
    "gaol_chain = goal_prompt | model | StrOutputParser()\n",
    "goal = gaol_chain.invoke({\"name_occupation\":name_occupation})\n",
    "print(goal)"
   ]
  },
  {
   "cell_type": "code",
   "execution_count": 26,
   "metadata": {},
   "outputs": [
    {
     "name": "stdout",
     "output_type": "stream",
     "text": [
      "If Evelyn Sinclair, the skilled intelligence operative, fails to infiltrate the global crime syndicate and uncover their sinister plans, the consequences could be catastrophic:\n",
      "\n",
      "The crime syndicate's attack would likely be a large-scale, coordinated strike that could have devastating effects on national security and the stability of the free world. Without Evelyn's intervention, the syndicate may be able to detonate a series of strategic terrorist attacks, crippling critical infrastructure, disrupting global financial markets, or even deploying weapons of mass destruction.\n",
      "\n",
      "The loss of life from such an attack would be staggering, and the resulting chaos and panic could lead to the collapse of governments, the outbreak of war, and the unraveling of the international order that has maintained global peace and prosperity. Evelyn's failure would embolden the syndicate and empower the forces of darkness, ushering in a new era of lawlessness, oppression, and unchecked criminal power.\n",
      "\n",
      "Evelyn's personal stakes are also immense. As the only operative capable of infiltrating the syndicate and uncovering their plans, the failure of her mission would be a devastating blow to her career, her reputation, and her sense of duty to protect her country and the free world. The guilt and anguish of knowing that her inability to succeed led to such catastrophic consequences would be a heavy burden for Evelyn to bear.\n",
      "\n",
      "With so much at stake, Evelyn must draw upon every ounce of her skill, cunning, and determination to ensure that she does not fail. The fate of the world hangs in the balance, and Evelyn Sinclair is the only one who can stop the impending disaster.\n"
     ]
    }
   ],
   "source": [
    "\n",
    "situtaion = \"\"\"<story_background>\n",
    "<name_occupation>{name_occupation}</cname_occupation> \n",
    "<goal>{goal}</goal>\n",
    "</story_background>\n",
    "Tell me about a dire situation that the protagonist would be put in, if the protagonist couldn’t achieve the goal.\"\"\"\n",
    "\n",
    "situtaion_prompt = prompt_from_template(template=situtaion)\n",
    "\n",
    "situation_chain = situtaion_prompt | model | StrOutputParser()\n",
    "dire_situation = situation_chain.invoke({\"name_occupation\":name_occupation, \"goal\":goal})\n",
    "\n",
    "print(dire_situation)"
   ]
  },
  {
   "cell_type": "code",
   "execution_count": 27,
   "metadata": {},
   "outputs": [
    {
     "name": "stdout",
     "output_type": "stream",
     "text": [
      "Here is an introductory paragraph for the espionage thriller story featuring Evelyn Sinclair, the skilled international intelligence operative:\n",
      "\n",
      "The fate of the free world rested on Evelyn Sinclair's shoulders. As a seasoned operative for a covert government agency, she had navigated the shadowy world of espionage and counterintelligence with unparalleled skill. But her latest mission was unlike any she had faced before. Evelyn had been tasked with infiltrating a dangerous global crime syndicate, one that threatened to unleash a catastrophic attack that could cripple nations and unravel the very fabric of international order. With her sharp instincts, quick thinking, and mastery of disguise and deception, Evelyn knew she was the only one capable of uncovering the syndicate's sinister plans before it was too late. The fate of the world hung in the balance, and failure was not an option. Evelyn steeled her resolve, knowing that she must succeed in this high-stakes operation, no matter the personal cost.\n"
     ]
    }
   ],
   "source": [
    "intro_instruction =  \"\"\"<story_background>\n",
    "<name_occupation>{name_occupation}</cname_occupation> \n",
    "<goal>{goal}</goal>\n",
    "<situation>{dire_situation}</situation>\n",
    "</story_background>\n",
    "Write an introductory paragraph of a story that covers all the above information.\n",
    "\"\"\"\n",
    "\n",
    "intro_prompt = prompt_from_template(template=intro_instruction)\n",
    "intro_chain = intro_prompt | model | StrOutputParser()\n",
    "intro = intro_chain.invoke({\"name_occupation\":name_occupation, \"goal\":goal, \"dire_situation\":dire_situation})\n",
    "print(intro)"
   ]
  }
 ],
 "metadata": {
  "kernelspec": {
   "display_name": ".venv",
   "language": "python",
   "name": "python3"
  },
  "language_info": {
   "codemirror_mode": {
    "name": "ipython",
    "version": 3
   },
   "file_extension": ".py",
   "mimetype": "text/x-python",
   "name": "python",
   "nbconvert_exporter": "python",
   "pygments_lexer": "ipython3",
   "version": "3.10.10"
  }
 },
 "nbformat": 4,
 "nbformat_minor": 2
}

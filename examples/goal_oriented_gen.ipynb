{
 "cells": [
  {
   "cell_type": "markdown",
   "metadata": {},
   "source": [
    "# Goal Oriented Generation \n",
    "\n",
    "Based on prompts from [Creating Suspenseful Stories with Large Language Models](https://arxiv.org/abs/2402.17119)."
   ]
  },
  {
   "cell_type": "code",
   "execution_count": 30,
   "metadata": {},
   "outputs": [],
   "source": [
    "from dotenv import load_dotenv\n",
    "from langchain_aws import ChatBedrock\n",
    "from langchain_core.output_parsers import StrOutputParser\n",
    "from langchain_core.prompts import ChatPromptTemplate\n",
    "\n",
    "load_dotenv()\n",
    "\n",
    "# See langchain_aws for more information on other bedrock models\n",
    "# This is the model we will be using for this example\n",
    "\n",
    "model = ChatBedrock(\n",
    "    model_id=\"anthropic.claude-3-haiku-20240307-v1:0\",\n",
    "    model_kwargs={\"temperature\": 0.7},\n",
    ")\n",
    "\n",
    "# Setting a role for the chat model to act as a short story writer\n",
    "\n",
    "role = \"\"\"You are a short story writer with a passion for creative writing and storytelling. \n",
    "Your task is to create engaging stories that captivate your audience and leave them wanting more. \n",
    "\"\"\"\n",
    "\n",
    "def prompt_from_template(template: str):\n",
    "    return ChatPromptTemplate.from_messages([\n",
    "        (\"system\", role),\n",
    "        (\"human\", template)\n",
    "    ])\n"
   ]
  },
  {
   "cell_type": "markdown",
   "metadata": {},
   "source": [
    "# Background Setup\n",
    "\n",
    "This is the world knowledge needed to tell a coherent story about the protagonist.  We'll need the following items:\n",
    "\n",
    "- Protagonist's name and occupution\n",
    "- The goal they want to achieve\n",
    "- The consequence for not achieving the goal\n",
    "\n",
    "From those items, we'll prompt the model to write an introductory paragraph\n"
   ]
  },
  {
   "cell_type": "code",
   "execution_count": 31,
   "metadata": {},
   "outputs": [
    {
     "name": "stdout",
     "output_type": "stream",
     "text": [
      "Here is the name and occupation of the protagonist for an espionage thriller:\n",
      "\n",
      "Name: Evelyn Sinclair\n",
      "Occupation: CIA Intelligence Analyst\n",
      "\n",
      "Evelyn Sinclair is a brilliant and highly skilled CIA intelligence analyst who specializes in deciphering complex data and connecting the dots to uncover hidden threats. With a razor-sharp mind and an unparalleled attention to detail, she is the agency's go-to expert when it comes to untangling the most intricate espionage cases.\n",
      "\n",
      "Despite her desk-bound role, Evelyn is no stranger to the high-stakes world of covert operations. Her keen analytical abilities and ability to think several steps ahead of her adversaries have made her an invaluable asset to the CIA, often called upon to provide crucial intelligence that informs the decisions of field agents and senior leadership.\n",
      "\n",
      "When a new case emerges that threatens to unravel the delicate balance of global power, Evelyn finds herself thrust into the center of a dangerous web of lies, betrayal, and international intrigue. With time running out and the stakes higher than ever, she must use all of her skills and resources to track down the elusive enemy and prevent a devastating outcome that could have catastrophic consequences for the entire world.\n"
     ]
    }
   ],
   "source": [
    "genre = \"Espionage Thriller\"\n",
    "name_pormpt = prompt_from_template(template=\"Make up the name and the occupation of a protagonist of a {genre}.\")\n",
    "\n",
    "name_chain = name_pormpt | model | StrOutputParser()\n",
    "name_occupation = name_chain.invoke({\"genre\":genre})\n",
    "print(name_occupation)"
   ]
  },
  {
   "cell_type": "code",
   "execution_count": 32,
   "metadata": {},
   "outputs": [
    {
     "name": "stdout",
     "output_type": "stream",
     "text": [
      "Given the background provided for the protagonist, Evelyn Sinclair, a CIA intelligence analyst, her concrete goal in this espionage thriller could be:\n",
      "\n",
      "To uncover the truth behind a complex international conspiracy and prevent a devastating global catastrophe.\n",
      "\n",
      "As a highly skilled and experienced intelligence analyst, Evelyn's goal is to use her exceptional analytical abilities to meticulously investigate the emerging case, connect the dots, and ultimately identify the key players and their nefarious plans. With the fate of the world hanging in the balance, Evelyn is driven to overcome any obstacles and unravel the intricate web of deception to stop the impending disaster.\n",
      "\n",
      "Her unwavering determination to protect her country and the global community at large fuels her pursuit of the truth, even as she finds herself thrust into the perilous world of covert operations, where the line between ally and enemy becomes increasingly blurred. Evelyn's goal is not just to gather the necessary intelligence, but to take decisive action to neutralize the threat and prevent the catastrophic consequences that would arise if the conspiracy were to succeed.\n"
     ]
    }
   ],
   "source": [
    "\n",
    "\n",
    "goal_prompt = prompt_from_template(template=\"<name_occupation>{name_occupation}</name_occupation>\\n\\nGiven the <name_occupation>, create a very concrete goal the protagonist wants to achieve\")\n",
    "\n",
    "gaol_chain = goal_prompt | model | StrOutputParser()\n",
    "goal = gaol_chain.invoke({\"name_occupation\":name_occupation})\n",
    "print(goal)"
   ]
  },
  {
   "cell_type": "code",
   "execution_count": 33,
   "metadata": {},
   "outputs": [
    {
     "name": "stdout",
     "output_type": "stream",
     "text": [
      "If Evelyn Sinclair, the CIA intelligence analyst, fails to uncover the truth behind the complex international conspiracy and prevent the impending global catastrophe, the consequences could be truly dire:\n",
      "\n",
      "Escalating Global Tensions: Without Evelyn's crucial intelligence and interventions, the web of lies and deception would continue to unravel, leading to heightened tensions between the world's superpowers. This could result in a dangerous standoff, with the threat of military conflict looming large.\n",
      "\n",
      "Devastating Attacks: If the enemy's plans are not thwarted, they could proceed with their nefarious schemes, potentially orchestrating a series of devastating attacks on strategic locations or critical infrastructure around the world. This could lead to massive loss of life, widespread destruction, and a global state of panic and chaos.\n",
      "\n",
      "Collapse of the International Order: The successful execution of the conspiracy could undermine the fragile balance of global power, eroding trust between nations and causing the collapse of the existing international order. This could lead to a breakdown in diplomatic relations, the dissolution of alliances, and a descent into a new era of global instability and conflict.\n",
      "\n",
      "Humanitarian Crisis: The fallout from the catastrophic events could trigger a massive humanitarian crisis, with millions of people displaced, access to essential resources severely disrupted, and the outbreak of disease and famine in affected regions. The world would be plunged into a state of unprecedented suffering and despair.\n",
      "\n",
      "Personal Consequences: Evelyn's failure would not only have global ramifications but could also take a heavy personal toll. As the CIA's top intelligence analyst, she would be wracked with guilt and a deep sense of responsibility for not being able to prevent the unthinkable. The weight of this burden could be crushing, both professionally and emotionally.\n",
      "\n",
      "The stakes could not be higher, and the world would be on the brink of a cataclysmic disaster if Evelyn is unable to uncover the truth and stop the conspiracy in time. The fate of the entire global community would hang in the balance, with the consequences of failure being truly catastrophic.\n"
     ]
    }
   ],
   "source": [
    "\n",
    "situtaion = \"\"\"<story_background>\n",
    "<name_occupation>{name_occupation}</cname_occupation> \n",
    "<goal>{goal}</goal>\n",
    "</story_background>\n",
    "Tell me about a dire situation that the protagonist would be put in, if the protagonist couldn’t achieve the goal.\"\"\"\n",
    "\n",
    "situtaion_prompt = prompt_from_template(template=situtaion)\n",
    "\n",
    "situation_chain = situtaion_prompt | model | StrOutputParser()\n",
    "dire_situation = situation_chain.invoke({\"name_occupation\":name_occupation, \"goal\":goal})\n",
    "\n",
    "print(dire_situation)"
   ]
  },
  {
   "cell_type": "code",
   "execution_count": 34,
   "metadata": {},
   "outputs": [
    {
     "name": "stdout",
     "output_type": "stream",
     "text": [
      "Here is an introductory paragraph for the espionage thriller story featuring CIA intelligence analyst Evelyn Sinclair:\n",
      "\n",
      "Evelyn Sinclair's razor-sharp mind was her greatest asset, honed by years of painstaking analysis and an unwavering commitment to unraveling the most complex espionage cases. As the CIA's top intelligence analyst, she was the agency's go-to expert, her keen eye for detail and ability to connect the dots proving invaluable in a world where the line between ally and enemy was constantly blurred. But as Evelyn found herself thrust into the center of a dangerous web of international intrigue, she knew the stakes had never been higher. A new case had emerged, one that threatened to unravel the delicate balance of global power, and with time running out, Evelyn would have to use every tool in her arsenal to track down the elusive enemy and prevent a devastating outcome that could have catastrophic consequences for the entire world.\n"
     ]
    }
   ],
   "source": [
    "intro_instruction =  \"\"\"<story_background>\n",
    "<name_occupation>{name_occupation}</cname_occupation> \n",
    "<goal>{goal}</goal>\n",
    "<situation>{dire_situation}</situation>\n",
    "</story_background>\n",
    "Write an introductory paragraph of a story that covers all the above information.\n",
    "\"\"\"\n",
    "\n",
    "intro_prompt = prompt_from_template(template=intro_instruction)\n",
    "intro_chain = intro_prompt | model | StrOutputParser()\n",
    "intro = intro_chain.invoke({\"name_occupation\":name_occupation, \"goal\":goal, \"dire_situation\":dire_situation})\n",
    "print(intro)"
   ]
  }
 ],
 "metadata": {
  "kernelspec": {
   "display_name": ".venv",
   "language": "python",
   "name": "python3"
  },
  "language_info": {
   "codemirror_mode": {
    "name": "ipython",
    "version": 3
   },
   "file_extension": ".py",
   "mimetype": "text/x-python",
   "name": "python",
   "nbconvert_exporter": "python",
   "pygments_lexer": "ipython3",
   "version": "3.10.10"
  }
 },
 "nbformat": 4,
 "nbformat_minor": 2
}

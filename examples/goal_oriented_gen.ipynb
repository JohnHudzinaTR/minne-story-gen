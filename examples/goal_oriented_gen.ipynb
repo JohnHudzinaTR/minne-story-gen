{
 "cells": [
  {
   "cell_type": "markdown",
   "metadata": {},
   "source": [
    "# Goal Oriented Generation \n",
    "\n",
    "Based on prompts from [Creating Suspenseful Stories with Large Language Models](https://arxiv.org/abs/2402.17119)."
   ]
  },
  {
   "cell_type": "code",
   "execution_count": 1,
   "metadata": {},
   "outputs": [],
   "source": [
    "from dotenv import load_dotenv\n",
    "from langchain_aws import ChatBedrock\n",
    "from langchain_core.output_parsers import StrOutputParser\n",
    "from langchain_core.prompts import ChatPromptTemplate\n",
    "\n",
    "load_dotenv()\n",
    "\n",
    "# See langchain_aws for more information on other bedrock models\n",
    "# This is the model we will be using for this example\n",
    "\n",
    "model = ChatBedrock(\n",
    "    model_id=\"anthropic.claude-3-haiku-20240307-v1:0\",\n",
    "    model_kwargs={\"temperature\": 0.7},\n",
    ")\n",
    "\n",
    "# Setting a role for the chat model to act as a short story writer\n",
    "\n",
    "role = \"\"\"You are a short story writer with a passion for creative writing and storytelling. \n",
    "Your task is to create engaging stories that captivate your audience and leave them wanting more. \n",
    "\"\"\"\n",
    "\n",
    "def prompt_from_template(template: str):\n",
    "    return ChatPromptTemplate.from_messages([\n",
    "        (\"system\", role),\n",
    "        (\"human\", template)\n",
    "    ])\n"
   ]
  },
  {
   "cell_type": "markdown",
   "metadata": {},
   "source": [
    "# Background Setup\n",
    "\n",
    "This is the world knowledge needed to tell a coherent story about the protagonist.  We'll need the following items:\n",
    "\n",
    "- Protagonist's name and occupution\n",
    "- The goal they want to achieve\n",
    "- The consequence for not achieving the goal\n",
    "\n",
    "From those items, we'll prompt the model to write an introductory paragraph\n"
   ]
  },
  {
   "cell_type": "code",
   "execution_count": 2,
   "metadata": {},
   "outputs": [],
   "source": [
    "genre = \"Espionage Thriller\"\n",
    "name_pormpt = prompt_from_template(template=\"The name and the occupation of a protagonist of a {genre}:\")\n",
    "\n",
    "name_chain = name_pormpt | model | StrOutputParser()\n",
    "name_occupation = name_chain.invoke({\"genre\":genre})\n",
    "\n",
    "jinja_vars = {\n",
    "    \"genre\": genre,\n",
    "    \"name_occupation\": name_occupation\n",
    "}"
   ]
  },
  {
   "cell_type": "code",
   "execution_count": 3,
   "metadata": {},
   "outputs": [],
   "source": [
    "goal_instructions = \"\"\"\n",
    "<protagonist_background>\n",
    "<name_occupation>{name_occupation}</name_occupation>\n",
    "</protagonist_background>\n",
    "\n",
    "A very concrete goal the protagonist wants to achieve:\"\"\"\n",
    "\n",
    "goal_prompt = prompt_from_template(template=goal_instructions)\n",
    "\n",
    "gaol_chain = goal_prompt | model | StrOutputParser()\n",
    "goal = gaol_chain.invoke({\"name_occupation\":name_occupation})\n",
    "\n",
    "jinja_vars[\"goal\"] = goal"
   ]
  },
  {
   "cell_type": "code",
   "execution_count": 4,
   "metadata": {},
   "outputs": [],
   "source": [
    "\n",
    "situtaion = \"\"\"<protagonist_background>\n",
    "<name_occupation>{name_occupation}</name_occupation> \n",
    "<goal>{goal}</goal>\n",
    "</protagonist_background>\n",
    "\n",
    "Tell me about a dire situation that the protagonist would be put in, if the protagonist couldn’t achieve the goal:\n",
    "\"\"\"\n",
    "\n",
    "situtaion_prompt = prompt_from_template(template=situtaion)\n",
    "\n",
    "situation_chain = situtaion_prompt | model | StrOutputParser()\n",
    "dire_situation = situation_chain.invoke({\"name_occupation\":name_occupation, \"goal\":goal})\n",
    "\n",
    "jinja_vars[\"dire_situation\"] = dire_situation"
   ]
  },
  {
   "cell_type": "code",
   "execution_count": 5,
   "metadata": {},
   "outputs": [],
   "source": [
    "intro_instruction =  \"\"\"<protagonist_background>\n",
    "<name_occupation>{name_occupation}</name_occupation> \n",
    "<goal>{goal}</goal>\n",
    "<situation>{dire_situation}</situation>\n",
    "</protagonist_background>\n",
    "\n",
    "Write an introductory paragraph of a story that covers all the above information:\n",
    "\"\"\"\n",
    "\n",
    "intro_prompt = prompt_from_template(template=intro_instruction)\n",
    "intro_chain = intro_prompt | model | StrOutputParser()\n",
    "intro = intro_chain.invoke({\"name_occupation\":name_occupation, \"goal\":goal, \"dire_situation\":dire_situation})\n",
    "\n",
    "jinja_vars[\"intro\"] = intro"
   ]
  },
  {
   "cell_type": "markdown",
   "metadata": {},
   "source": [
    "# Outline  Planning\n",
    "\n",
    "Iteratively create actions and and reasons for thier failure."
   ]
  },
  {
   "cell_type": "code",
   "execution_count": 6,
   "metadata": {},
   "outputs": [],
   "source": [
    "action_1_instructions =  \"\"\"<protagonist_background>\n",
    "<name_occupation>{name_occupation}</name_occupation> \n",
    "<goal>{goal}</goal>\n",
    "<situation>{dire_situation}</situation>\n",
    "</protagonist_background>\n",
    "\n",
    "In a narrative style, write about a concrete action the protagonist is most likely to take, \n",
    "in order to achieve the goal:\\n\n",
    "\"\"\"\n",
    "\n",
    "action_1_prompt = prompt_from_template(template=action_1_instructions)\n",
    "action_1_chain = action_1_prompt | model | StrOutputParser()\n",
    "action_1 = action_1_chain.invoke({\"name_occupation\":name_occupation, \"goal\":goal, \"dire_situation\":dire_situation})\n",
    "\n",
    "jinja_vars[\"action_1\"] = action_1"
   ]
  },
  {
   "cell_type": "code",
   "execution_count": 7,
   "metadata": {},
   "outputs": [],
   "source": [
    "action_1_reason_inst = \"\"\"The protagonist tries to perform the following actions: \n",
    "\n",
    "<actions>\n",
    "<action_1>\n",
    "{action_1}\n",
    "</action_1>\n",
    "</actions>\n",
    "\n",
    "But the protagonist still fails to achieve the goal for a reason. \n",
    "Write about the reason for the failure in a narrative style:\\n\"\"\"\n",
    "\n",
    "action_1_reason_prompt = prompt_from_template(template=action_1_reason_inst)\n",
    "action_1_reason_chain = action_1_reason_prompt | model | StrOutputParser()\n",
    "action_1_reason = action_1_reason_chain.invoke({\"action_1\":action_1})\n",
    "\n",
    "jinja_vars[\"action_1_reason\"] = action_1_reason"
   ]
  },
  {
   "cell_type": "code",
   "execution_count": 8,
   "metadata": {},
   "outputs": [],
   "source": [
    "action_2_instructions = \"\"\"The protagonist has taken all the following actions: \n",
    "\n",
    "<actions>\n",
    "<action_1>{action_1}</action_1>\n",
    "</actions>\n",
    "\n",
    "But it turns out that those actions are not effective in helping the protagonist to achieve the goal, so the goal is still not achieved yet. \n",
    "\n",
    "Write about a concrete new action the protagonist is most likely to take next, in order to achieve the goal:\\n\"\"\"\n",
    "\n",
    "action_2_prompt = prompt_from_template(template=action_2_instructions)\n",
    "action_2_chain = action_2_prompt | model | StrOutputParser()\n",
    "action_2 = action_2_chain.invoke({\"action_1\":action_1})\n",
    "\n",
    "jinja_vars[\"action_2\"] = action_2"
   ]
  },
  {
   "cell_type": "code",
   "execution_count": 9,
   "metadata": {},
   "outputs": [],
   "source": [
    "action_2_reason_inst = \"\"\"The protagonist tries to perform the following action:\n",
    "\n",
    "<actions>\n",
    "<action_1>{action_1}</action_1>\n",
    "<action_2>{action_2}</action_2>\n",
    "</actions>\n",
    "\n",
    "But the protagonist still fails to achieve the goal for a reason.\n",
    "Write about the reason for the failure in a narrative style:\\n\"\"\"\n",
    "\n",
    "action_2_reason_prompt = prompt_from_template(template=action_2_reason_inst)\n",
    "action_2_reason_chain = action_2_reason_prompt | model | StrOutputParser()\n",
    "action_2_reason = action_2_reason_chain.invoke({\"action_1\":action_1, \"action_2\":action_2})\n",
    "\n",
    "jinja_vars[\"action_2_reason\"] = action_2_reason"
   ]
  },
  {
   "cell_type": "code",
   "execution_count": 10,
   "metadata": {},
   "outputs": [],
   "source": [
    "action_3 = \"\"\"The protagonist has taken all the following actions:\n",
    "\n",
    "<actions>\n",
    "<action_1>{action_1}</action_1>\n",
    "<action_2>{action_2}</action_2>\n",
    "</actions>\n",
    "\n",
    "But it turns out that those actions are not effective in helping the protagonist to achieve the goal, so the goal is still not achieved yet.\n",
    "\n",
    "Write about a concrete new action the protagonist is most likely to take next, in order to achieve the goal:\\n\"\"\"\n",
    "\n",
    "action_3_prompt = prompt_from_template(template=action_3)\n",
    "action_3_chain = action_3_prompt | model | StrOutputParser()\n",
    "action_3 = action_3_chain.invoke({\"action_1\":action_1, \"action_2\":action_2})\n",
    "\n",
    "jinja_vars[\"action_3\"] = action_3"
   ]
  },
  {
   "cell_type": "code",
   "execution_count": 11,
   "metadata": {},
   "outputs": [],
   "source": [
    "action_3_reason_inst = \"\"\"The protagonist tries to perform the following action:\n",
    "\n",
    "<actions>\n",
    "<action_1>{action_1}</action_1>\n",
    "<action_2>{action_2}</action_2>\n",
    "<action_3>{action_3}</action_3>\n",
    "</actions>\n",
    "\n",
    "The protagonist finally achieves the goal for a reason.\n",
    "Write about the reason for the success in a narrative style:\\n\"\"\"\n",
    "\n",
    "action_3_reason_prompt = prompt_from_template(template=action_3_reason_inst)\n",
    "action_3_reason_chain = action_3_reason_prompt | model | StrOutputParser()\n",
    "action_3_reason = action_3_reason_chain.invoke({\"action_1\":action_1, \"action_2\":action_2, \"action_3\":action_3})\n",
    "\n",
    "jinja_vars[\"action_3_reason\"] = action_3_reason"
   ]
  },
  {
   "cell_type": "code",
   "execution_count": 12,
   "metadata": {},
   "outputs": [],
   "source": [
    "from jinja2 import Environment, select_autoescape, FileSystemLoader\n",
    "env = Environment(\n",
    "    loader=FileSystemLoader(\".\"),\n",
    "    autoescape=select_autoescape()\n",
    ")\n",
    "\n",
    "template = env.get_template(\"goal_template.jinja\")\n",
    "\n",
    "story = template.render(**jinja_vars)\n",
    "\n",
    "with open(\"story.md\", \"w\") as f:\n",
    "    f.write(story)"
   ]
  }
 ],
 "metadata": {
  "kernelspec": {
   "display_name": ".venv",
   "language": "python",
   "name": "python3"
  },
  "language_info": {
   "codemirror_mode": {
    "name": "ipython",
    "version": 3
   },
   "file_extension": ".py",
   "mimetype": "text/x-python",
   "name": "python",
   "nbconvert_exporter": "python",
   "pygments_lexer": "ipython3",
   "version": "3.10.10"
  }
 },
 "nbformat": 4,
 "nbformat_minor": 2
}
